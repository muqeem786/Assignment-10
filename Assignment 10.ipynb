{
 "cells": [
  {
   "cell_type": "code",
   "execution_count": 2,
   "id": "d43da871-156b-4dde-b3a1-a0fd04763636",
   "metadata": {},
   "outputs": [],
   "source": [
    "# Question 1 - Create a vehicle with an init method having instance variables as name_of_vehicle , max_speed and average of vehicle"
   ]
  },
  {
   "cell_type": "code",
   "execution_count": 33,
   "id": "be601a85-214b-44b9-b982-5ae66976d043",
   "metadata": {},
   "outputs": [],
   "source": [
    "# Answer\n",
    "class Vehicle :\n",
    "    \n",
    "    def __init__(self , name_of_vehicle , max_speed , average_of_vehicle):\n",
    "        self.name_of_vehicle = name_of_vehicle\n",
    "        self.max_speed = max_speed\n",
    "        self.average_of_vehicle = average_of_vehicle\n",
    "        "
   ]
  },
  {
   "cell_type": "code",
   "execution_count": 34,
   "id": "1c8a27e2-9e6d-472a-aabe-f76fb4ff2ead",
   "metadata": {},
   "outputs": [],
   "source": [
    "c = Vehicle(\"car\" , 220 , 20)"
   ]
  },
  {
   "cell_type": "code",
   "execution_count": 25,
   "id": "0e989a19-fb33-486d-b1e9-a0a44eca2086",
   "metadata": {},
   "outputs": [
    {
     "data": {
      "text/plain": [
       "'car'"
      ]
     },
     "execution_count": 25,
     "metadata": {},
     "output_type": "execute_result"
    }
   ],
   "source": [
    "c.name_of_vehicle"
   ]
  },
  {
   "cell_type": "code",
   "execution_count": 26,
   "id": "bb321436-0414-40e1-86f0-5588dde6aa62",
   "metadata": {},
   "outputs": [
    {
     "data": {
      "text/plain": [
       "220"
      ]
     },
     "execution_count": 26,
     "metadata": {},
     "output_type": "execute_result"
    }
   ],
   "source": [
    "c.max_speed"
   ]
  },
  {
   "cell_type": "code",
   "execution_count": 27,
   "id": "4b13aeaa-7580-48e9-8f29-a44ca1a93a5e",
   "metadata": {},
   "outputs": [
    {
     "data": {
      "text/plain": [
       "20"
      ]
     },
     "execution_count": 27,
     "metadata": {},
     "output_type": "execute_result"
    }
   ],
   "source": [
    "c.average_of_vehicle"
   ]
  },
  {
   "cell_type": "code",
   "execution_count": 8,
   "id": "4ff28bd7-d9ba-4657-96dd-e00234650fde",
   "metadata": {},
   "outputs": [],
   "source": [
    "# Question 2 - Create a child class car from the vehicle class created in Question1, which will inherit the vehicle class.\n",
    "#             Create a method named seating capacity which take capacity as an argument and return the name of\n",
    "#             the vehicle and its seating capacity."
   ]
  },
  {
   "cell_type": "code",
   "execution_count": 68,
   "id": "cae6185a-c696-453d-bb16-5ca7a1d0b45f",
   "metadata": {},
   "outputs": [],
   "source": [
    "# Answer\n",
    "class Vehicle:\n",
    "\n",
    "    def __init__(self, name_of_vehicle, max_speed, average_of_vehicle):\n",
    "        self.name_of_vehicle = name_of_vehicle\n",
    "        self.max_speed = max_speed\n",
    "        self.average_of_vehicle = average_of_vehicle\n",
    "        "
   ]
  },
  {
   "cell_type": "code",
   "execution_count": 69,
   "id": "75d77131-ca0a-4ecd-9042-a64a08396211",
   "metadata": {},
   "outputs": [],
   "source": [
    "\n",
    "class Car(Vehicle):\n",
    "\n",
    "    def seating_capacity(self, seat_capacity):\n",
    "        self.vehicle_seats = seat_capacity\n",
    "        return self.name_of_vehicle, seat_capacity"
   ]
  },
  {
   "cell_type": "code",
   "execution_count": 70,
   "id": "eedb291f-7ba1-44ca-98b0-ee0aff6a28cb",
   "metadata": {},
   "outputs": [
    {
     "name": "stdout",
     "output_type": "stream",
     "text": [
      "('Tata', 1)\n"
     ]
    }
   ],
   "source": [
    "Rohal = Car(\"Tata\", 33, 30)\n",
    "print(Rohal.seating_capacity(1))"
   ]
  },
  {
   "cell_type": "code",
   "execution_count": 56,
   "id": "6ba92c99-f52b-453f-9397-9c4c2c3d6b25",
   "metadata": {},
   "outputs": [],
   "source": [
    "# Question 3 - What is multiple inheritance? Write a python code to demonstrate multiple inheritance."
   ]
  },
  {
   "cell_type": "code",
   "execution_count": 58,
   "id": "e08c8ab2-b068-4731-a220-92410d7cecb0",
   "metadata": {},
   "outputs": [
    {
     "name": "stdout",
     "output_type": "stream",
     "text": [
      "Tommy\n",
      "John\n",
      "I'm an animal\n",
      "Woof\n"
     ]
    }
   ],
   "source": [
    "# Answer - Multiple Inheritance is a feature of OOPs language that allow a class to inherit from multiple parent classes.\n",
    "#         This allows a class to inherit attributes and bahavior from multiple parent classes,which can make it \n",
    "#        easier to reuse code and create more complex data types.\n",
    "# Example\n",
    "class Animal:\n",
    "    def __init__(self , name):\n",
    "        self.name = name\n",
    "        \n",
    "    def speak(self):\n",
    "        return \"I'm an animal\"\n",
    "    \n",
    "class Pet:\n",
    "    def __init__(self , name ,owner):\n",
    "        self.name = name\n",
    "        self.owner = owner\n",
    "        \n",
    "    def speak(self):\n",
    "        return \"I'm a pet\"\n",
    "    \n",
    "class Dog(Animal ,Pet):\n",
    "    def __init__(self , name ,owner):\n",
    "        Animal.__init__(self,name)\n",
    "        Pet.__init__(self, name , owner)\n",
    "        \n",
    "    def bark(self):\n",
    "        return \"Woof\"\n",
    "\n",
    "dog = Dog(\"Tommy\" , \"John\")\n",
    "print(dog.name)\n",
    "print(dog.owner)\n",
    "print(dog.speak())\n",
    "print(dog.bark())"
   ]
  },
  {
   "cell_type": "code",
   "execution_count": 59,
   "id": "a0d6e3c8-f6c2-42b1-bf9e-3c2dcef209ef",
   "metadata": {},
   "outputs": [],
   "source": [
    "# Question 4 - What are getter and setter in python? Create a class and create a getter and a setter method in the class."
   ]
  },
  {
   "cell_type": "code",
   "execution_count": 60,
   "id": "ae93439d-85e1-45da-85e4-f1d7d55a49df",
   "metadata": {},
   "outputs": [],
   "source": [
    "# Answer - Getters and setters in python are method that allow you to access and modify the attributes of an object.\n",
    "#          In Python,they are commonly used to control access to an object's attributes,ensure that data is stored\n",
    "#          and retrieved in a consistent way,and enforce constraints on the type and value of stored data in an object attributes.\n",
    "# Example\n",
    "class car :\n",
    "    def __init__(self , year , make , model, speed ) : \n",
    "        \n",
    "        self.__year = year \n",
    "        self.__make = make\n",
    "        self.__model = model\n",
    "        self.__speed = 0\n",
    "        \n",
    "    def set_speed(self,speed) : \n",
    "        self.__speed = 0 if speed < 0 else speed\n",
    "        \n",
    "    def get_speed(self)  : \n",
    "        return self.__speed"
   ]
  },
  {
   "cell_type": "code",
   "execution_count": 61,
   "id": "3593fe6d-09a5-4302-ac6f-2d3dada13f4b",
   "metadata": {},
   "outputs": [],
   "source": [
    "muqeem = car(2022,\"toyota\" ,\"innova\",200)  "
   ]
  },
  {
   "cell_type": "code",
   "execution_count": 62,
   "id": "3092ea20-ace7-4b69-bedd-26cb43d922ef",
   "metadata": {},
   "outputs": [
    {
     "data": {
      "text/plain": [
       "2022"
      ]
     },
     "execution_count": 62,
     "metadata": {},
     "output_type": "execute_result"
    }
   ],
   "source": [
    "muqeem._car__year"
   ]
  },
  {
   "cell_type": "code",
   "execution_count": 63,
   "id": "90a6d124-e8e0-4b53-a125-97c7400a8038",
   "metadata": {},
   "outputs": [],
   "source": [
    "muqeem.set_speed(150)"
   ]
  },
  {
   "cell_type": "code",
   "execution_count": 64,
   "id": "187b7cba-1e86-4d45-8249-ccaed2af418d",
   "metadata": {},
   "outputs": [
    {
     "data": {
      "text/plain": [
       "150"
      ]
     },
     "execution_count": 64,
     "metadata": {},
     "output_type": "execute_result"
    }
   ],
   "source": [
    "muqeem.get_speed()"
   ]
  },
  {
   "cell_type": "code",
   "execution_count": 65,
   "id": "44901870-1ee0-4f12-9c3f-a198baaa18ac",
   "metadata": {},
   "outputs": [],
   "source": [
    "# Question 5 - What is method overriding in Python? Write a python code to demonstrate method overriding."
   ]
  },
  {
   "cell_type": "code",
   "execution_count": 66,
   "id": "da32e4c7-044a-41c9-b089-5c0ebe340b92",
   "metadata": {},
   "outputs": [
    {
     "name": "stdout",
     "output_type": "stream",
     "text": [
      "Dog Barks\n"
     ]
    }
   ],
   "source": [
    "# Answer - Method overriding is an feature in OOPs that allows us a subclass or derived class to provide a different\n",
    "#         implementation of a method that is already provided by its superclass or base class.The idea behind method\n",
    "#         overriding is to allow subclasses to specialize the behavior defined in their superclass by providing\n",
    "#        implementation of the method\n",
    "#Example - \n",
    "class Animal:\n",
    "    def make_sound(self):\n",
    "        print(\"Animal makes a sound\")\n",
    "\n",
    "class Dog(Animal):\n",
    "    def make_sound(self):\n",
    "        print(\"Dog Barks\")\n",
    "dog = Dog()\n",
    "dog.make_sound()\n",
    "        "
   ]
  },
  {
   "cell_type": "code",
   "execution_count": null,
   "id": "9a2622db-d9ae-4ac8-b92a-70b77b656b70",
   "metadata": {},
   "outputs": [],
   "source": []
  }
 ],
 "metadata": {
  "kernelspec": {
   "display_name": "Python 3 (ipykernel)",
   "language": "python",
   "name": "python3"
  },
  "language_info": {
   "codemirror_mode": {
    "name": "ipython",
    "version": 3
   },
   "file_extension": ".py",
   "mimetype": "text/x-python",
   "name": "python",
   "nbconvert_exporter": "python",
   "pygments_lexer": "ipython3",
   "version": "3.10.8"
  }
 },
 "nbformat": 4,
 "nbformat_minor": 5
}
