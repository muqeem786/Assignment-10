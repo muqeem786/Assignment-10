{
 "cells": [
  {
   "cell_type": "code",
   "execution_count": 20,
   "id": "e688a9e1-b860-4527-87ca-7aaeed0fa702",
   "metadata": {},
   "outputs": [],
   "source": [
    "# Question 1 - Which function is used to open a file ? What are different modes of opening a file? Expalin each mode of opening file."
   ]
  },
  {
   "cell_type": "code",
   "execution_count": 21,
   "id": "51cb43fa-a85d-44d0-a1fc-2e362ec33a24",
   "metadata": {},
   "outputs": [],
   "source": [
    "# Answer - In python , the built-in 'open()'functionn is used open a file.The syntax is open().\n",
    "#         In Python,the 'open()' function supports several modes to specify the purpose of opening a file .\n",
    "# Here are the most common file modes.\n",
    "# 1.Read mode(\"r\"):This is the default mode.It is used for reading a file.\n",
    "#2.Write mode(\"w\"):This mode is used to write data to a file.If the file doesn't exist,it creates new file.\n",
    "#                  If the file already exists,it truncates the file to zero length.\n",
    "#3.Append mode(\"a\"):This mode is used to append data to the end of a file.If the file doesn't exist,it creates a new file.\n",
    "#4.Binary mode(\"b\"):This mode is used to read or write binary data,such as images , audio or vedio file.\n",
    "#5.Text mode(\"t\"):This mode is used to read or write text data,such as strings or characters.This is the default mode.\n",
    "\n",
    "# You can also combine modes by passing multiple letters as a string.For example \"rb\" is used for reading binary data,\n",
    "#\"wt\" is used for writing text data , etc."
   ]
  },
  {
   "cell_type": "code",
   "execution_count": 22,
   "id": "16130f1a-fcec-4e8e-8e03-2d065dcbb7b9",
   "metadata": {},
   "outputs": [],
   "source": [
    "# Question 2 - Why close() function is used ? Why is it important to close a file?"
   ]
  },
  {
   "cell_type": "code",
   "execution_count": 23,
   "id": "b5f7bf11-0d01-4b8d-aeb1-5913d2bf16d5",
   "metadata": {},
   "outputs": [],
   "source": [
    "# Answer -In Python , it is important to close a file after you have finished working with it,using the 'close()'\n",
    "#         method of the file object.The close() method releases the resources used by the file object and ensures\n",
    "#         that any changes made to the file are saved\n",
    "# Here are a few reason why it is important to close a file:\n",
    "#1.Save changes:When you write to a file,the changes you make are not immediately written to the disk.Thwy are stored \n",
    "#               in a buffer memory.If you do not close the file,the changes may not ne saved to the disk,and you may loose the data.\n",
    "#2.Allow other programs to access the file:If you do not close the file,it will remain locked by your program,preventing\n",
    "#                                          other programs from accessing it.This can cause in multi-program environment."
   ]
  },
  {
   "cell_type": "code",
   "execution_count": 24,
   "id": "df2f3a8d-6421-4942-b510-5178b3e166c5",
   "metadata": {},
   "outputs": [],
   "source": [
    "# Question 3 - Write a python program to create a text file.Write 'I want to become a Data Scientist,in the file.\n",
    "#              Then close the file.Open this file and read the content of the file"
   ]
  },
  {
   "cell_type": "code",
   "execution_count": 25,
   "id": "8115e817-1ca5-4ed8-af8e-6b065364d2c5",
   "metadata": {},
   "outputs": [
    {
     "name": "stdout",
     "output_type": "stream",
     "text": [
      "I want to become Data Scientist\n"
     ]
    }
   ],
   "source": [
    "# Answer\n",
    "# Create a text file\n",
    "with open('data_scientist.txt', 'w') as file:\n",
    "    file.write('I want to become Data Scientist')\n",
    "    \n",
    "# Read the text file\n",
    "with open('data_scientist.txt','r') as file:\n",
    "    content = file.read()\n",
    "    \n",
    "print(content)    "
   ]
  },
  {
   "cell_type": "code",
   "execution_count": 26,
   "id": "543288fb-11c9-49f5-8394-e5289c9432a6",
   "metadata": {},
   "outputs": [],
   "source": [
    "# Question 4 - Expalin the following with python code:read(),readline() and readlines()."
   ]
  },
  {
   "cell_type": "code",
   "execution_count": 30,
   "id": "0ca7f654-8396-4af3-8d72-34bd48f86e5d",
   "metadata": {},
   "outputs": [
    {
     "name": "stdout",
     "output_type": "stream",
     "text": [
      "I want to become Data Scientist\n"
     ]
    }
   ],
   "source": [
    "# Answer \n",
    "# 1.read():The read() method reads the entire contents of a file as a string.It takes an optional argument that\n",
    "#          specifies the number of bytes to read,and if no argument is provided,it reads the entire file\n",
    "# Example\n",
    "# open file\n",
    "with open('data_scientist.txt' ,'r') as file:\n",
    "    # Read entire file\n",
    "    content = file.read()\n",
    "    print(content)"
   ]
  },
  {
   "cell_type": "code",
   "execution_count": 31,
   "id": "1036ea41-2433-4186-a836-436524c49530",
   "metadata": {},
   "outputs": [
    {
     "name": "stdout",
     "output_type": "stream",
     "text": [
      "I want to become Data Scientist\n",
      "\n"
     ]
    }
   ],
   "source": [
    "#2.readline():The readline() method reads a single line from a file at a time.Each time the method is called,\n",
    "#It reads the next line of the file.It returns an empty string when it reaches the end of the file.\n",
    "#Example\n",
    "# Open file \n",
    "with open('data_scientist.txt' , 'r') as file:\n",
    "    # read the first line\n",
    "    line1 = file.readline()\n",
    "    print(line1)\n",
    "    # read second line\n",
    "    line2 = file.readline()\n",
    "    print(line2)"
   ]
  },
  {
   "cell_type": "code",
   "execution_count": 32,
   "id": "2cd29c3a-c5cf-4bb9-9d2f-53560fc74e12",
   "metadata": {},
   "outputs": [
    {
     "name": "stdout",
     "output_type": "stream",
     "text": [
      "['I want to become Data Scientist']\n"
     ]
    }
   ],
   "source": [
    "#3.readlines():The readlines() method reads all the lines of a file and returns them as a list of strings.Each\n",
    "#              string in the list represent a line of the file,including newline character.\n",
    "#Example\n",
    "# Open file \n",
    "with open('data_scientist.txt' ,'r') as file:\n",
    "    # read all lines and store as a list\n",
    "    lines = file.readlines()\n",
    "    print(lines)"
   ]
  },
  {
   "cell_type": "code",
   "execution_count": 33,
   "id": "df248614-4a85-4d21-a9a8-ca1694edd3cf",
   "metadata": {},
   "outputs": [],
   "source": [
    "# Question 5 - Expalin why with statement is used with open().What is the advantage of using with statement \n",
    " #             and open together?"
   ]
  },
  {
   "cell_type": "code",
   "execution_count": 34,
   "id": "4790efd4-2c65-4c6a-91ba-50e04386a2b6",
   "metadata": {},
   "outputs": [],
   "source": [
    "# Answer - The \"with\" statement is used with the \"open()\" function to ensure that a file is properly closed \n",
    "#           after it has been used.The main advantage of using the \"with\" statement with \"open()\" function is that\n",
    "#          it automatically takes care of closing the file,even if an exception is raised.When the \"with\"statement\n",
    "#          is used,a context is created for the \"open()\"function.This context ensures that the file is closed when\n",
    "#          the blockof code within the \"with\" statement is exited."
   ]
  },
  {
   "cell_type": "code",
   "execution_count": 35,
   "id": "010b210b-e5de-44e4-97f7-8fa97d79724f",
   "metadata": {},
   "outputs": [],
   "source": [
    "# Question 6 - Explain the write() and writelines() functions.Give a suitable example."
   ]
  },
  {
   "cell_type": "code",
   "execution_count": null,
   "id": "feafe080-a35b-4a39-b16e-7cc7934a6b17",
   "metadata": {},
   "outputs": [],
   "source": [
    "# Answer \n",
    "#1.write(): The write() method writes a string to a file.If the file already exists,its contents will be replaced by the new string.\n",
    "#Example\n",
    "#Open file in write mode\n",
    "with open ('data_scientist.txt', 'w') as file:\n",
    "    # Write a string to the file\n",
    "    file.write('Hello world!')"
   ]
  },
  {
   "cell_type": "code",
   "execution_count": null,
   "id": "1a228b8a-7b0b-498e-872e-4b1c8262064f",
   "metadata": {},
   "outputs": [],
   "source": [
    "#2.writelines():The writelines() method writes a list of strings to a file.Each string in the list represent\n",
    "#              a line in the file.The strings should not have newline characters,as the method does not add them automatically.\n",
    "# Example\n",
    "# Define a list of strings\n",
    "lines = ['line 1\\n' , 'line 2\\n' , 'line 3\\n']\n",
    "\n",
    "# open file in write mode\n",
    "with open( 'data_scientist.txt' , 'w') as file:\n",
    "    # Write the list of strings to the file\n",
    "    file.writelines(lines)"
   ]
  },
  {
   "cell_type": "code",
   "execution_count": null,
   "id": "f9bd77f2-1c53-4a33-b922-b5f7bf4ca938",
   "metadata": {},
   "outputs": [],
   "source": []
  }
 ],
 "metadata": {
  "kernelspec": {
   "display_name": "Python 3 (ipykernel)",
   "language": "python",
   "name": "python3"
  },
  "language_info": {
   "codemirror_mode": {
    "name": "ipython",
    "version": 3
   },
   "file_extension": ".py",
   "mimetype": "text/x-python",
   "name": "python",
   "nbconvert_exporter": "python",
   "pygments_lexer": "ipython3",
   "version": "3.10.8"
  }
 },
 "nbformat": 4,
 "nbformat_minor": 5
}
