{
 "cells": [
  {
   "cell_type": "code",
   "execution_count": 2,
   "id": "9943bb39-00a7-4f79-8b73-adfdfe9a4d16",
   "metadata": {},
   "outputs": [],
   "source": [
    "# Question 1 - What is an API ? Give an example,where an API used in real life."
   ]
  },
  {
   "cell_type": "code",
   "execution_count": 3,
   "id": "1693d570-1d64-4e4c-8864-04bba9c3aca7",
   "metadata": {},
   "outputs": [],
   "source": [
    "# Answer - An Application Programming Interface that allows software applications to interact with each other.\n",
    "# API is used in many things like almost all website and application like G-pay and G-mail and also Google. "
   ]
  },
  {
   "cell_type": "code",
   "execution_count": 4,
   "id": "43550670-4b65-45fd-935d-9aa2495d88db",
   "metadata": {},
   "outputs": [],
   "source": [
    "# Question 2 - Give advantages and disadvantages of using API."
   ]
  },
  {
   "cell_type": "code",
   "execution_count": 5,
   "id": "8e50752c-b813-4492-bc0b-5a1215fe9617",
   "metadata": {},
   "outputs": [],
   "source": [
    "# Answer - Advantages\n",
    "#1.Interoperability: APIs make it easier to connect different systems and services, even if they are built on\n",
    "#                different platforms or programming languages. This allows developers to build complex systems\n",
    "#               by combining existing software components, rather than reinventing the wheel.\n",
    "\n",
    "#2.Efficiency: APIs provide a standardized way of accessing functionality, which reduces development time and\n",
    "#           effort. Developers can focus on building the parts of the application that are specific to their\n",
    "#       needs, while relying on APIs for common tasks such as authentication, data storage, and communication.\n",
    "#         Disadvantages\n",
    "#1.Security: APIs can pose security risks if not properly secured. They may expose sensitive data or provide\n",
    "#           an entry point for attackers to exploit vulnerabilities in the underlying systems.\n",
    "#2.Complexity: APIs can be complex to use, especially if they have a large number of endpoints or require \n",
    "#             complex authentication mechanisms. This can make development more challenging and increase the \n",
    "#            risk of errors.\n",
    "#3.Cost: Some APIs require payment for usage, which can add to the overall cost of developing and running an\n",
    "#        application."
   ]
  },
  {
   "cell_type": "code",
   "execution_count": 6,
   "id": "e2743637-3512-4704-aa7a-61d20ddc8d0d",
   "metadata": {},
   "outputs": [],
   "source": [
    "# Question 3 - What is a Web API? Differentiate betweem API and Web API."
   ]
  },
  {
   "cell_type": "code",
   "execution_count": 7,
   "id": "5e2a6f0b-d257-49c4-88f8-e96683c67483",
   "metadata": {},
   "outputs": [],
   "source": [
    "# Answer - A set of standards and protocols for accessing web-based software applications or web tools.\n",
    "#     Here are some key differences between Web APIs and APIs:\n",
    "\n",
    "# Transport protocol: APIs can be accessed through a variety of protocols, including HTTP, TCP/IP, and FTP,\n",
    "#   whereas Web APIs are specifically designed to be accessed over the internet using HTTP.\n",
    "\n",
    "# Usage: APIs can be used for any type of software application or service, whereas Web APIs are typically used\n",
    "#    to expose the functionality of a web service.\n",
    "\n",
    "# Interface: APIs can have any type of interface, including command-line interfaces, graphical user interfaces,\n",
    "#      or programming language interfaces, whereas Web APIs are typically accessed using RESTful web services\n",
    "#      that use HTTP methods such as GET, POST, PUT, and DELETE.\n",
    "\n",
    "# Data format: APIs can support any data format, including XML, JSON, or binary data, whereas Web APIs typically\n",
    "#        use JSON or XML to exchange data with clients."
   ]
  },
  {
   "cell_type": "code",
   "execution_count": 8,
   "id": "02069347-52d4-401f-9774-26e97ab814dc",
   "metadata": {},
   "outputs": [],
   "source": [
    "# Question 4 -Explain REST and SOAP Architecture.Mention shortcomings of SOAP."
   ]
  },
  {
   "cell_type": "code",
   "execution_count": 9,
   "id": "83608e2d-0df1-4d17-aa89-95c09a08d2f1",
   "metadata": {},
   "outputs": [],
   "source": [
    "# Answer - REST- A REST API is a type of API that uses Representational State Transfer (REST) principles. REST\n",
    "#        is a set of architectural principles for designing networked systems, and REST APIs are designed to\n",
    "#       be lightweight, scalable, and easy to use. They are the most common type of web API and use standard \n",
    "#       HTTP methods (such as GET, POST, PUT, and DELETE) to interact with data.\n",
    "# SOAP- SOAP stands for Simple Object Access Protocol and is a protocol for sending and receiving messages \n",
    "#      between applications. \n",
    "# SOAP messages are typically sent over HTTP or other transport protocols and are formatted in XML. SOAP is\n",
    "# designed to provide a secure and reliable way for applications to communicate with each other, making it a\n",
    "# popular choice for building web-based services."
   ]
  },
  {
   "cell_type": "code",
   "execution_count": 10,
   "id": "14b38622-a2bb-4de5-bc7f-1c9e1600a4d2",
   "metadata": {},
   "outputs": [],
   "source": [
    "# Question 5 - Differentiate between REST and SOAP."
   ]
  },
  {
   "cell_type": "code",
   "execution_count": 11,
   "id": "be85fdaf-a5f5-4bb3-93ad-345d6b41b3b2",
   "metadata": {},
   "outputs": [],
   "source": [
    "# Answer - REST (Representational State Transfer) and SOAP (Simple Object Access Protocol) are both protocols\n",
    "#      used for exchanging data between different software applications or services, but they have some key\n",
    "#     differences:\n",
    "\n",
    "#Architecture: REST is an architectural style for building web services, while SOAP is a protocol. REST is \n",
    "#          based on the principles of the web, such as using HTTP methods like GET, POST, PUT, and DELETE to\n",
    "#          perform operations on resources, while SOAP is based on XML messaging.\n",
    "\n",
    "# Data format: REST uses lightweight data formats such as JSON or XML, while SOAP uses XML. This makes REST\n",
    "#            more efficient for transferring data over the web.\n",
    "\n",
    "# Scalability: REST is designed to be highly scalable, as it is stateless and does not require a connection \n",
    "#         to be maintained between the client and server. SOAP, on the other hand, is stateful and requires \n",
    "#         a connection to be maintained, which can limit scalability.\n",
    "\n",
    "# Security: SOAP has built-in security features such as WS-Security, which provides message-level security,\n",
    "#         while REST relies on SSL/TLS encryption to secure data transmission.\n",
    "\n",
    "# Performance: REST is generally considered to be faster and more efficient than SOAP, as it uses lightweight\n",
    "#            data formats and is designed to be stateless, while SOAP has more overhead due to its XML-based \n",
    "#            messaging and stateful nature.\n",
    "\n",
    "\n"
   ]
  },
  {
   "cell_type": "code",
   "execution_count": null,
   "id": "9dfa4a1b-0d93-42d5-9e2a-e5e315cadc6c",
   "metadata": {},
   "outputs": [],
   "source": []
  }
 ],
 "metadata": {
  "kernelspec": {
   "display_name": "Python 3 (ipykernel)",
   "language": "python",
   "name": "python3"
  },
  "language_info": {
   "codemirror_mode": {
    "name": "ipython",
    "version": 3
   },
   "file_extension": ".py",
   "mimetype": "text/x-python",
   "name": "python",
   "nbconvert_exporter": "python",
   "pygments_lexer": "ipython3",
   "version": "3.10.8"
  }
 },
 "nbformat": 4,
 "nbformat_minor": 5
}
