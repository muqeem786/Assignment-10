{
 "cells": [
  {
   "cell_type": "code",
   "execution_count": 1,
   "id": "84924247-9ef5-4481-95d9-1b55f1317699",
   "metadata": {},
   "outputs": [],
   "source": [
    "# Question 1 - Explain why we have to use the Exception class while creating a Custom Exception."
   ]
  },
  {
   "cell_type": "code",
   "execution_count": 2,
   "id": "bade7bfd-bba8-4d28-bb74-51c6baecda84",
   "metadata": {},
   "outputs": [],
   "source": [
    "# Answer -  Using the exception class to create custom exceptions helps to provide a consistent way to\n",
    "#           handle errors in a program, and also allows for more specific and detailed error reporting."
   ]
  },
  {
   "cell_type": "code",
   "execution_count": 3,
   "id": "3ad2dbb0-0fa9-4646-875d-64fb0870ea86",
   "metadata": {},
   "outputs": [],
   "source": [
    "# Question 2 - Write a python program to print Python Exception Hierarchy."
   ]
  },
  {
   "cell_type": "code",
   "execution_count": 13,
   "id": "e6a9ca0f-076d-4fe2-aee1-44b3ab23b694",
   "metadata": {},
   "outputs": [
    {
     "name": "stdout",
     "output_type": "stream",
     "text": [
      "BaseException\n",
      "object\n"
     ]
    }
   ],
   "source": [
    "# Answer\n",
    "# Get the base Exception class\n",
    "base = BaseException\n",
    "\n",
    "# Loop through the exception hierarchy\n",
    "while base:\n",
    "    print(base.__name__)\n",
    "    base = base.__base__\n",
    "\n"
   ]
  },
  {
   "cell_type": "code",
   "execution_count": 14,
   "id": "4b9f6283-08da-4249-aaf2-3aab9d037695",
   "metadata": {},
   "outputs": [],
   "source": [
    "# Question 3 -What error are defined in the ArithmeticError class? Expalin any two with an example."
   ]
  },
  {
   "cell_type": "code",
   "execution_count": 29,
   "id": "5d5f6ee5-11a5-4136-b791-4727b14d50bf",
   "metadata": {},
   "outputs": [],
   "source": [
    "# Answer - The ArithmeticError is a built-in exception class in Python that serves as a base class for all\n",
    "#          the exceptions that occur for numeric calculations.the ArithmeticError are 'ZeroDivisionError' and\n",
    "#         'OverFlowError'\n",
    "#\"ZeroDivisionError\" - Example\n",
    "import logging\n",
    "try :\n",
    "    logging.basicConfig(filename = \"error.log\" , level = logging.ERROR)\n",
    "    a = 10/0\n",
    "except ZeroDivisionError as e :\n",
    "    logging.error(\"this will handle zero division error{}\".format(e))\n",
    "    \n",
    "\n"
   ]
  },
  {
   "cell_type": "code",
   "execution_count": 32,
   "id": "8e7a9f45-e0fe-4e83-b37f-ec955068467e",
   "metadata": {},
   "outputs": [
    {
     "name": "stdout",
     "output_type": "stream",
     "text": [
      "Print the current data and time\n",
      "[2023, 2, 21, 17, 51, 10, 1, 52, 0]\n",
      "\n",
      "\n",
      "The invalid time is as follow:\n",
      "9444732965739290427392\n",
      "\n",
      "\n"
     ]
    },
    {
     "ename": "NameError",
     "evalue": "name 'OverFlowError' is not defined",
     "output_type": "error",
     "traceback": [
      "\u001b[0;31m---------------------------------------------------------------------------\u001b[0m",
      "\u001b[0;31mTypeError\u001b[0m                                 Traceback (most recent call last)",
      "Cell \u001b[0;32mIn[32], line 14\u001b[0m\n\u001b[1;32m     13\u001b[0m    currtime[\u001b[38;5;241m3\u001b[39m] \u001b[38;5;241m=\u001b[39m time2\n\u001b[0;32m---> 14\u001b[0m    \u001b[38;5;28mprint\u001b[39m(\u001b[43mtime\u001b[49m\u001b[38;5;241;43m.\u001b[39;49m\u001b[43masctime\u001b[49m\u001b[43m(\u001b[49m\u001b[43mcurrtime\u001b[49m\u001b[43m)\u001b[49m)\n\u001b[1;32m     15\u001b[0m \u001b[38;5;28;01mexcept\u001b[39;00m OverFlowError \u001b[38;5;28;01mas\u001b[39;00m oe :\n",
      "\u001b[0;31mTypeError\u001b[0m: Tuple or struct_time argument required",
      "\nDuring handling of the above exception, another exception occurred:\n",
      "\u001b[0;31mNameError\u001b[0m                                 Traceback (most recent call last)",
      "Cell \u001b[0;32mIn[32], line 15\u001b[0m\n\u001b[1;32m     13\u001b[0m    currtime[\u001b[38;5;241m3\u001b[39m] \u001b[38;5;241m=\u001b[39m time2\n\u001b[1;32m     14\u001b[0m    \u001b[38;5;28mprint\u001b[39m(time\u001b[38;5;241m.\u001b[39masctime(currtime))\n\u001b[0;32m---> 15\u001b[0m \u001b[38;5;28;01mexcept\u001b[39;00m \u001b[43mOverFlowError\u001b[49m \u001b[38;5;28;01mas\u001b[39;00m oe :\n\u001b[1;32m     16\u001b[0m    \u001b[38;5;28mprint\u001b[39m(\u001b[38;5;124m\"\u001b[39m\u001b[38;5;124mAfter the overflow error\u001b[39m\u001b[38;5;124m\"\u001b[39m , oe)\n",
      "\u001b[0;31mNameError\u001b[0m: name 'OverFlowError' is not defined"
     ]
    }
   ],
   "source": [
    " # \"OverFlowError\" - Example \n",
    "import time\n",
    "try:\n",
    "    currtime = [tm for tm in time.localtime()]\n",
    "    print(\"Print the current data and time\")\n",
    "    print(currtime)\n",
    "    print(\"\\n\")\n",
    "    \n",
    "    time2 = (2**73)\n",
    "    print(\"The invalid time is as follow:\")\n",
    "    print(time2)\n",
    "    print(\"\\n\")\n",
    "    currtime[3] = time2\n",
    "    print(time.asctime(currtime))\n",
    "except OverFlowError as oe :\n",
    "    print(\"After the overflow error\" , oe)"
   ]
  },
  {
   "cell_type": "code",
   "execution_count": 33,
   "id": "3d0d42e6-dc87-4cde-bc7a-85a618072f29",
   "metadata": {},
   "outputs": [],
   "source": [
    "# Question 4 - Why LookupError class is used?Explain with an example KeyError and IndexError."
   ]
  },
  {
   "cell_type": "code",
   "execution_count": 35,
   "id": "90cb22de-f502-4b3d-9651-536019dd03f2",
   "metadata": {},
   "outputs": [],
   "source": [
    "# Answer - The LookupError class is used to catch such exceptions and handle them appropriately. Some of the\n",
    "#exceptions that are derived from the LookupError class are:\n",
    "#IndexError\n",
    "#KeyError\n",
    "# Example of KeyError\n",
    "import logging\n",
    "try :\n",
    "    logging.basicConfig(filename = \"error1.log\" , level = logging.ERROR)\n",
    "    d ={ \"key\" : \"muqeem\" , \"class\" : \"pwskills\" , 1 : [2,34,5,5,3,4]}\n",
    "    print(d[\"key1\"])\n",
    "except KeyError as e:\n",
    "    logging.error(\"this will handle key error {}\".format(e))\n",
    "    \n",
    "# Example of IndexError\n",
    "try :\n",
    "    l=[2,3,5,4,3]\n",
    "    print(l[7])\n",
    "except IndexError as e:\n",
    "    logging.error(\"this will handle index error {}\".format(e))\n",
    "    \n",
    "\n",
    "\n",
    "\n",
    "\n",
    "\n"
   ]
  },
  {
   "cell_type": "code",
   "execution_count": 39,
   "id": "0081bb74-e804-4813-bac4-b13ad7676110",
   "metadata": {},
   "outputs": [],
   "source": [
    "# Question 5 - Explain ImportError. What is ModuleNotFoundError"
   ]
  },
  {
   "cell_type": "code",
   "execution_count": 38,
   "id": "0b5c3930-fa66-4c49-896d-2ceea4002f94",
   "metadata": {},
   "outputs": [],
   "source": [
    "# Answer- The error creates when we import these things that is not in our python then import error creates\n",
    "#Example\n",
    "try:\n",
    "    import muqeem\n",
    "except ImportError as e:\n",
    "    logging.error(\"this will handle import error exception{}\".format(e))\n",
    "# ModuleNotfoundError -ModuleNotFoundError is a built-in exception class in Python that is raised when a\n",
    "#                     module is not found in the current scope. It is a subclass of the ImportError class.\n",
    "#                     In Python, a module is a file containing Python code that defines variables, functions\n",
    "#                     , and classes that can be used by other Python code. When we try to import a module \n",
    "#             that does not exist or that cannot be found in the current search path, a ModuleNotFoundError\n",
    "#              exception is raised.    "
   ]
  },
  {
   "cell_type": "code",
   "execution_count": 40,
   "id": "c6fb5230-c49b-4a5b-ac17-f431abd75eaf",
   "metadata": {},
   "outputs": [],
   "source": [
    "# Question 6 -List some best practices for exception handling in python."
   ]
  },
  {
   "cell_type": "code",
   "execution_count": 41,
   "id": "e02f5286-1aeb-4066-8831-e16a20372817",
   "metadata": {},
   "outputs": [],
   "source": [
    "# Answer\n",
    "#Document all the error \n",
    "#cleanup all the resources\n",
    "try :\n",
    "    with open(\"test.txt\" , 'w') as f :\n",
    "        f.write(\"this is my data to file \" )\n",
    "except FileNotFoundError as e : \n",
    "    logging.error(\"i am handling file not found  {} \".format(e) )\n",
    "finally :\n",
    "    f.close()"
   ]
  },
  {
   "cell_type": "code",
   "execution_count": 42,
   "id": "83732012-0303-472d-8e82-8758ddda1c43",
   "metadata": {},
   "outputs": [
    {
     "name": "stdout",
     "output_type": "stream",
     "text": [
      "i am trying to handle a zerodivision error division by zero\n"
     ]
    }
   ],
   "source": [
    "#print always a proper message \n",
    "try :\n",
    "    10/0\n",
    "except ZeroDivisionError as e :\n",
    "    print(\"i am trying to handle a zerodivision error\"  , e)"
   ]
  },
  {
   "cell_type": "code",
   "execution_count": 43,
   "id": "84792930-2203-47dd-8f9d-8c855df6fefb",
   "metadata": {},
   "outputs": [],
   "source": [
    "#always try to log your error\n",
    "import logging\n",
    "logging.basicConfig(filename = \"error.log\" , level = logging.ERROR)\n",
    "try :\n",
    "    10/0\n",
    "except ZeroDivisionError as e :\n",
    "    logging.error(\"i am trying to handle a zerodivision error {} \".format(e) )"
   ]
  },
  {
   "cell_type": "code",
   "execution_count": null,
   "id": "79f04003-b701-4e52-b40d-20daa8c87b16",
   "metadata": {},
   "outputs": [],
   "source": []
  }
 ],
 "metadata": {
  "kernelspec": {
   "display_name": "Python 3 (ipykernel)",
   "language": "python",
   "name": "python3"
  },
  "language_info": {
   "codemirror_mode": {
    "name": "ipython",
    "version": 3
   },
   "file_extension": ".py",
   "mimetype": "text/x-python",
   "name": "python",
   "nbconvert_exporter": "python",
   "pygments_lexer": "ipython3",
   "version": "3.10.8"
  }
 },
 "nbformat": 4,
 "nbformat_minor": 5
}
