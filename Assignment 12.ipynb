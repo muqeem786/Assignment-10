{
 "cells": [
  {
   "cell_type": "code",
   "execution_count": 1,
   "id": "6322d144-ef4c-47bc-aa6c-ae58d1197aba",
   "metadata": {},
   "outputs": [],
   "source": [
    "# Question 1- What is an Exception in python? Write the difference between Exceptions and syntax errors."
   ]
  },
  {
   "cell_type": "code",
   "execution_count": 2,
   "id": "7d049fce-d4a4-45e9-a5ce-baad5330bfb5",
   "metadata": {},
   "outputs": [
    {
     "ename": "SyntaxError",
     "evalue": "invalid syntax. Maybe you meant '==' or ':=' instead of '='? (2291212962.py, line 10)",
     "output_type": "error",
     "traceback": [
      "\u001b[0;36m  Cell \u001b[0;32mIn[2], line 10\u001b[0;36m\u001b[0m\n\u001b[0;31m    if x = 5:\u001b[0m\n\u001b[0m       ^\u001b[0m\n\u001b[0;31mSyntaxError\u001b[0m\u001b[0;31m:\u001b[0m invalid syntax. Maybe you meant '==' or ':=' instead of '='?\n"
     ]
    }
   ],
   "source": [
    "# Answer - In Python, an exception is an error that occurs during the execution of a program. When an exception\n",
    "#         occurs, Python interrupts the normal flow of the program and jumps to a special code block called an\n",
    "#         exception handler. The exception handler catches the exception and handles it appropriately, allowing\n",
    "#          the program to continue running.\n",
    "#The main difference between exceptions and syntax errors is that exceptions occur during the execution of the\n",
    "#program, while syntax errors occur before the program starts running. In other words, syntax errors are caught\n",
    "#by the Python interpreter during the compilation phase, whereas exceptions are caught during the runtime phase.\n",
    "#Example of Syntax Error:\n",
    "x = 5\n",
    "if x = 5:\n",
    "    print(\"x is 5\")\n",
    "#In this case, the code contains a syntax error because we used the assignment operator (=) instead of the equality\n",
    "#operator (==) in the if statement. The interpreter catches this error and reports it before the program starts running.\n",
    "# Example of exception\n",
    "x = 5\n",
    "y = 0\n",
    "result = x / y\n",
    "#In this case, the code does not contain a syntax error, but it does contain a logical error. Specifically, we are trying\n",
    "#to divide by zero, which is not allowed in Python. When we try to run this code, an exception is raised because \n",
    "#we are attempting an illegal operation (division by zero). The exception handler catches the exception and\n",
    "#handles it appropriately, allowing the program to continue running (if we handle it with try and except\n",
    "# statement)."
   ]
  },
  {
   "cell_type": "code",
   "execution_count": 3,
   "id": "ea574bec-a0e0-4178-871e-4488db520c92",
   "metadata": {},
   "outputs": [],
   "source": [
    "# Question 2 - What happens when an exception is not handled ? Expalin with an example."
   ]
  },
  {
   "cell_type": "code",
   "execution_count": 4,
   "id": "8abfa583-2aea-45dd-958e-73dc1fecec06",
   "metadata": {},
   "outputs": [],
   "source": [
    "# Answer - When an exception is not handled in Python, it results in an error message being printed to the\n",
    "#         console and the program terminates. This means that any code that comes after the line of code that\n",
    "#         caused the exception will not be executed.To avoid this situation, it's a good practice to always \n",
    "#          handle exceptions in your code. You can use a try-except block to catch exceptions and handle them\n",
    "#          appropriately, so that your program can continue running even if an error occurs.\n"
   ]
  },
  {
   "cell_type": "code",
   "execution_count": 5,
   "id": "8717d765-2be4-41a5-a250-f0a353e3c208",
   "metadata": {},
   "outputs": [],
   "source": [
    "# Question 3 - which python statement are used to catch and handle exceptions? Expalin with your example."
   ]
  },
  {
   "cell_type": "code",
   "execution_count": 6,
   "id": "c58f5af0-a67a-400c-89a8-25cad0818a9d",
   "metadata": {},
   "outputs": [
    {
     "ename": "FileNotFoundError",
     "evalue": "[Errno 2] No such file or directory: 'test.txt'",
     "output_type": "error",
     "traceback": [
      "\u001b[0;31m---------------------------------------------------------------------------\u001b[0m",
      "\u001b[0;31mFileNotFoundError\u001b[0m                         Traceback (most recent call last)",
      "Cell \u001b[0;32mIn[6], line 5\u001b[0m\n\u001b[1;32m      1\u001b[0m \u001b[38;5;66;03m# Answer - In Python, we use the try-except statement to catch and handle exceptions. The try block contains\u001b[39;00m\n\u001b[1;32m      2\u001b[0m \u001b[38;5;66;03m#         the code that might raise an exception, and the except block contains the code that should be executed\u001b[39;00m\n\u001b[1;32m      3\u001b[0m \u001b[38;5;66;03m#         if an exception is raised.\u001b[39;00m\n\u001b[1;32m      4\u001b[0m \u001b[38;5;66;03m# Example\u001b[39;00m\n\u001b[0;32m----> 5\u001b[0m f \u001b[38;5;241m=\u001b[39m \u001b[38;5;28;43mopen\u001b[39;49m\u001b[43m(\u001b[49m\u001b[38;5;124;43m\"\u001b[39;49m\u001b[38;5;124;43mtest.txt\u001b[39;49m\u001b[38;5;124;43m\"\u001b[39;49m\u001b[43m \u001b[49m\u001b[43m,\u001b[49m\u001b[38;5;124;43m\"\u001b[39;49m\u001b[38;5;124;43mr\u001b[39;49m\u001b[38;5;124;43m\"\u001b[39;49m\u001b[43m)\u001b[49m\n\u001b[1;32m      6\u001b[0m \u001b[38;5;28mprint\u001b[39m(\u001b[38;5;124m\"\u001b[39m\u001b[38;5;124mthis is my file\u001b[39m\u001b[38;5;124m\"\u001b[39m)\n",
      "File \u001b[0;32m/opt/conda/lib/python3.10/site-packages/IPython/core/interactiveshell.py:282\u001b[0m, in \u001b[0;36m_modified_open\u001b[0;34m(file, *args, **kwargs)\u001b[0m\n\u001b[1;32m    275\u001b[0m \u001b[38;5;28;01mif\u001b[39;00m file \u001b[38;5;129;01min\u001b[39;00m {\u001b[38;5;241m0\u001b[39m, \u001b[38;5;241m1\u001b[39m, \u001b[38;5;241m2\u001b[39m}:\n\u001b[1;32m    276\u001b[0m     \u001b[38;5;28;01mraise\u001b[39;00m \u001b[38;5;167;01mValueError\u001b[39;00m(\n\u001b[1;32m    277\u001b[0m         \u001b[38;5;124mf\u001b[39m\u001b[38;5;124m\"\u001b[39m\u001b[38;5;124mIPython won\u001b[39m\u001b[38;5;124m'\u001b[39m\u001b[38;5;124mt let you open fd=\u001b[39m\u001b[38;5;132;01m{\u001b[39;00mfile\u001b[38;5;132;01m}\u001b[39;00m\u001b[38;5;124m by default \u001b[39m\u001b[38;5;124m\"\u001b[39m\n\u001b[1;32m    278\u001b[0m         \u001b[38;5;124m\"\u001b[39m\u001b[38;5;124mas it is likely to crash IPython. If you know what you are doing, \u001b[39m\u001b[38;5;124m\"\u001b[39m\n\u001b[1;32m    279\u001b[0m         \u001b[38;5;124m\"\u001b[39m\u001b[38;5;124myou can use builtins\u001b[39m\u001b[38;5;124m'\u001b[39m\u001b[38;5;124m open.\u001b[39m\u001b[38;5;124m\"\u001b[39m\n\u001b[1;32m    280\u001b[0m     )\n\u001b[0;32m--> 282\u001b[0m \u001b[38;5;28;01mreturn\u001b[39;00m \u001b[43mio_open\u001b[49m\u001b[43m(\u001b[49m\u001b[43mfile\u001b[49m\u001b[43m,\u001b[49m\u001b[43m \u001b[49m\u001b[38;5;241;43m*\u001b[39;49m\u001b[43margs\u001b[49m\u001b[43m,\u001b[49m\u001b[43m \u001b[49m\u001b[38;5;241;43m*\u001b[39;49m\u001b[38;5;241;43m*\u001b[39;49m\u001b[43mkwargs\u001b[49m\u001b[43m)\u001b[49m\n",
      "\u001b[0;31mFileNotFoundError\u001b[0m: [Errno 2] No such file or directory: 'test.txt'"
     ]
    }
   ],
   "source": [
    "# Answer - In Python, we use the try-except statement to catch and handle exceptions. The try block contains\n",
    "#         the code that might raise an exception, and the except block contains the code that should be executed\n",
    "#         if an exception is raised.\n",
    "# Example\n",
    "f = open(\"test.txt\" ,\"r\")\n",
    "print(\"this is my file\")"
   ]
  },
  {
   "cell_type": "code",
   "execution_count": 7,
   "id": "2e1b8b3b-8278-4971-8927-d5395fa0c154",
   "metadata": {},
   "outputs": [
    {
     "name": "stdout",
     "output_type": "stream",
     "text": [
      "this is my exception [Errno 2] No such file or directory: 'test.txt'\n"
     ]
    }
   ],
   "source": [
    "try :\n",
    "    f = open(\"test.txt\" ,\"r\")\n",
    "    print(\"this is my file\")\n",
    "except Exception as e:\n",
    "    print(\"this is my exception\",e)"
   ]
  },
  {
   "cell_type": "code",
   "execution_count": 10,
   "id": "f087d2ca-b255-46b5-ade3-08dbf3197db0",
   "metadata": {},
   "outputs": [
    {
     "name": "stdout",
     "output_type": "stream",
     "text": [
      "this is my except [Errno 2] No such file or directory: 'test2.txtr'\n"
     ]
    }
   ],
   "source": [
    "# Question 4 - Expalin with an example\n",
    "#a.try and else\n",
    "try :\n",
    "    f = open(\"test2.txt\" \"r\")\n",
    "    f.write(\"this is my code\")\n",
    "except Exception as e:\n",
    "    print(\"this is my except\",e)\n",
    "else :\n",
    "    f.close()\n",
    "    print(\"this will execute once your try will execute without error\")\n",
    "    "
   ]
  },
  {
   "cell_type": "code",
   "execution_count": 12,
   "id": "5156a0c7-8e38-4771-9f66-c08683b0503e",
   "metadata": {},
   "outputs": [
    {
     "name": "stdout",
     "output_type": "stream",
     "text": [
      "finally will execute in any situation\n"
     ]
    },
    {
     "ename": "FileNotFoundError",
     "evalue": "[Errno 2] No such file or directory: 'test3.txt'",
     "output_type": "error",
     "traceback": [
      "\u001b[0;31m---------------------------------------------------------------------------\u001b[0m",
      "\u001b[0;31mFileNotFoundError\u001b[0m                         Traceback (most recent call last)",
      "Cell \u001b[0;32mIn[12], line 3\u001b[0m\n\u001b[1;32m      1\u001b[0m \u001b[38;5;66;03m#b.finally\u001b[39;00m\n\u001b[1;32m      2\u001b[0m \u001b[38;5;28;01mtry\u001b[39;00m :\n\u001b[0;32m----> 3\u001b[0m     f \u001b[38;5;241m=\u001b[39m \u001b[38;5;28;43mopen\u001b[39;49m\u001b[43m(\u001b[49m\u001b[38;5;124;43m\"\u001b[39;49m\u001b[38;5;124;43mtest3.txt\u001b[39;49m\u001b[38;5;124;43m\"\u001b[39;49m\u001b[43m \u001b[49m\u001b[43m,\u001b[49m\u001b[38;5;124;43m\"\u001b[39;49m\u001b[38;5;124;43mr\u001b[39;49m\u001b[38;5;124;43m\"\u001b[39;49m\u001b[43m)\u001b[49m\n\u001b[1;32m      4\u001b[0m     f\u001b[38;5;241m.\u001b[39mwrite(\u001b[38;5;124m\"\u001b[39m\u001b[38;5;124mwrite anything\u001b[39m\u001b[38;5;124m\"\u001b[39m)\n\u001b[1;32m      5\u001b[0m \u001b[38;5;28;01mfinally\u001b[39;00m :\n",
      "File \u001b[0;32m/opt/conda/lib/python3.10/site-packages/IPython/core/interactiveshell.py:282\u001b[0m, in \u001b[0;36m_modified_open\u001b[0;34m(file, *args, **kwargs)\u001b[0m\n\u001b[1;32m    275\u001b[0m \u001b[38;5;28;01mif\u001b[39;00m file \u001b[38;5;129;01min\u001b[39;00m {\u001b[38;5;241m0\u001b[39m, \u001b[38;5;241m1\u001b[39m, \u001b[38;5;241m2\u001b[39m}:\n\u001b[1;32m    276\u001b[0m     \u001b[38;5;28;01mraise\u001b[39;00m \u001b[38;5;167;01mValueError\u001b[39;00m(\n\u001b[1;32m    277\u001b[0m         \u001b[38;5;124mf\u001b[39m\u001b[38;5;124m\"\u001b[39m\u001b[38;5;124mIPython won\u001b[39m\u001b[38;5;124m'\u001b[39m\u001b[38;5;124mt let you open fd=\u001b[39m\u001b[38;5;132;01m{\u001b[39;00mfile\u001b[38;5;132;01m}\u001b[39;00m\u001b[38;5;124m by default \u001b[39m\u001b[38;5;124m\"\u001b[39m\n\u001b[1;32m    278\u001b[0m         \u001b[38;5;124m\"\u001b[39m\u001b[38;5;124mas it is likely to crash IPython. If you know what you are doing, \u001b[39m\u001b[38;5;124m\"\u001b[39m\n\u001b[1;32m    279\u001b[0m         \u001b[38;5;124m\"\u001b[39m\u001b[38;5;124myou can use builtins\u001b[39m\u001b[38;5;124m'\u001b[39m\u001b[38;5;124m open.\u001b[39m\u001b[38;5;124m\"\u001b[39m\n\u001b[1;32m    280\u001b[0m     )\n\u001b[0;32m--> 282\u001b[0m \u001b[38;5;28;01mreturn\u001b[39;00m \u001b[43mio_open\u001b[49m\u001b[43m(\u001b[49m\u001b[43mfile\u001b[49m\u001b[43m,\u001b[49m\u001b[43m \u001b[49m\u001b[38;5;241;43m*\u001b[39;49m\u001b[43margs\u001b[49m\u001b[43m,\u001b[49m\u001b[43m \u001b[49m\u001b[38;5;241;43m*\u001b[39;49m\u001b[38;5;241;43m*\u001b[39;49m\u001b[43mkwargs\u001b[49m\u001b[43m)\u001b[49m\n",
      "\u001b[0;31mFileNotFoundError\u001b[0m: [Errno 2] No such file or directory: 'test3.txt'"
     ]
    }
   ],
   "source": [
    "#b.finally\n",
    "try :\n",
    "    f = open(\"test3.txt\" ,\"r\")\n",
    "    f.write(\"write anything\")\n",
    "finally :\n",
    "    print(\"finally will execute in any situation\")"
   ]
  },
  {
   "cell_type": "code",
   "execution_count": 13,
   "id": "6a6c1fa9-26a2-4d08-b7d8-ad542c4b5b1c",
   "metadata": {},
   "outputs": [],
   "source": [
    "# raise\n",
    "class valid_age(Exception):\n",
    "    \n",
    "    def __init__(self , msg):\n",
    "        self.msg = msg"
   ]
  },
  {
   "cell_type": "code",
   "execution_count": 16,
   "id": "79ad1b19-cc23-4236-8e0f-daa82ce1a49f",
   "metadata": {},
   "outputs": [],
   "source": [
    "def valid_age(age):\n",
    "    if age < 0 :\n",
    "        raise valid_age(\"enter the age is negative\")\n",
    "    elif age > 200:\n",
    "        raise valid_age(\"enter the age is very very high\")\n",
    "    else :\n",
    "        print(\"age is valid\")"
   ]
  },
  {
   "cell_type": "code",
   "execution_count": 17,
   "id": "8a138555-63f5-4b40-83c3-4bbd37004335",
   "metadata": {},
   "outputs": [
    {
     "name": "stdin",
     "output_type": "stream",
     "text": [
      "enter your age 90\n"
     ]
    },
    {
     "name": "stdout",
     "output_type": "stream",
     "text": [
      "age is valid\n"
     ]
    }
   ],
   "source": [
    "try :\n",
    "    age = int(input(\"enter your age\"))\n",
    "    valid_age(age)\n",
    "except valid_age as e:\n",
    "    print(e)"
   ]
  },
  {
   "cell_type": "code",
   "execution_count": 18,
   "id": "9c9c6c8a-8fb3-4a36-aa7e-c845702e00bf",
   "metadata": {},
   "outputs": [],
   "source": [
    "# Question 5 - What are custom exceptions in python ? why do we need custom exceptions?Explain with an example."
   ]
  },
  {
   "cell_type": "code",
   "execution_count": null,
   "id": "13d6417d-957b-4758-921a-151c5954731a",
   "metadata": {},
   "outputs": [],
   "source": [
    "# Answer - In Python, you can create custom exceptions by defining a new class that inherits from the builtin \n",
    "#         Exception class. Custom exceptions allow you to define and handle errors that are specific to your\n",
    "#          program, making your code more robust and easier to maintain.\n",
    "#You may want to create custom exceptions in situations where you have specific error conditions that need to be handled in a unique way, or to provide more informative error messages to the user.\n",
    "#"
   ]
  }
 ],
 "metadata": {
  "kernelspec": {
   "display_name": "Python 3 (ipykernel)",
   "language": "python",
   "name": "python3"
  },
  "language_info": {
   "codemirror_mode": {
    "name": "ipython",
    "version": 3
   },
   "file_extension": ".py",
   "mimetype": "text/x-python",
   "name": "python",
   "nbconvert_exporter": "python",
   "pygments_lexer": "ipython3",
   "version": "3.10.8"
  }
 },
 "nbformat": 4,
 "nbformat_minor": 5
}
