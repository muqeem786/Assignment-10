{
 "cells": [
  {
   "cell_type": "code",
   "execution_count": 1,
   "id": "9483ada2-07af-4395-a3bc-74a9a7122d0a",
   "metadata": {},
   "outputs": [],
   "source": [
    "# Question 1 -What is multithreading in python ? why is it used ? Name the module used to handle threads in python."
   ]
  },
  {
   "cell_type": "code",
   "execution_count": 2,
   "id": "9d976363-3328-4e4d-b7f6-7753424c5caa",
   "metadata": {},
   "outputs": [],
   "source": [
    "# Answer - Multithreading in Python refers to the capability of a program to create multiple threads of\n",
    "#           execution within a single process.\n",
    "# Multithreading is used in Python to achieve concurrency, which means executing multiple tasks simultaneously.\n",
    "# By creating multiple threads, a program can execute multiple tasks concurrently, improving the overall\n",
    "# performance and responsiveness of the application.\n",
    "# Python provides built-in support for multithreading through the \"threading\" module."
   ]
  },
  {
   "cell_type": "code",
   "execution_count": 3,
   "id": "2e953158-9cee-4a68-b27b-5e72297be84a",
   "metadata": {},
   "outputs": [],
   "source": [
    "# Question 2 - Why threading module is used ? Write the use of functions:\n",
    "# 1. activeCount()\n",
    "# 2. currentThread()\n",
    "# 3. enumerate()"
   ]
  },
  {
   "cell_type": "code",
   "execution_count": 4,
   "id": "33a8af61-fddd-4401-9fee-dd0e1ed719f0",
   "metadata": {},
   "outputs": [],
   "source": [
    "# Answer - the threading module is used to create and manage threads in Python, enabling developers to write\n",
    "#          concurrent and parallel programs that can take advantage of modern multi-core processors and \n",
    "#           improve the performance of their applications. \n",
    "# 1. activeCount() -  the activeCount() function is a useful tool for monitoring and managing threads in\n",
    "#                     Python, and can be used in a variety of applications where multithreading is employed\n",
    "# 2. currentThread() - the currentThread() function is a useful tool for accessing information about the\n",
    "#                  current thread and for synchronizing access to shared resources between threads in Python.\n",
    "# 3. enumerate() - The enumerate() function is often used in situations where you need to iterate over a \n",
    "#                sequence and also need to access the index of each element. It is a convenient way to add \n",
    "#               index tracking to a loop without having to manually create a counter variable."
   ]
  },
  {
   "cell_type": "code",
   "execution_count": 5,
   "id": "d36c4529-a284-477b-a985-034968e83e04",
   "metadata": {},
   "outputs": [],
   "source": [
    "# Question 3 - Explain the following functions:\n",
    "# 1. run()\n",
    "# 2. start()\n",
    "# 3. join()\n",
    "# 4. isAlive()"
   ]
  },
  {
   "cell_type": "code",
   "execution_count": 6,
   "id": "e934aa40-4dcd-4486-8b78-957faee0f9dc",
   "metadata": {},
   "outputs": [
    {
     "name": "stdout",
     "output_type": "stream",
     "text": [
      "Hello from a new thread!\n"
     ]
    }
   ],
   "source": [
    "# Answer - run() -The run() function is a method of the Thread class in Python's threading module. It is the\n",
    "#                entry point for a new thread of execution. When a Thread object is created and started, the\n",
    "#                run() method is called to start the new thread\n",
    "# For example\n",
    "import threading\n",
    "\n",
    "class MyThread(threading.Thread):\n",
    "    def run(self):\n",
    "        print(\"Hello from a new thread!\")\n",
    "\n",
    "my_thread = MyThread()\n",
    "my_thread.start()\n",
    "\n"
   ]
  },
  {
   "cell_type": "code",
   "execution_count": 7,
   "id": "5aed85ca-3e36-4579-a844-252a5cfb1840",
   "metadata": {},
   "outputs": [
    {
     "name": "stdout",
     "output_type": "stream",
     "text": [
      "Hello from a new thread!\n"
     ]
    }
   ],
   "source": [
    "# 2.start() - The start() function is a method of the Thread class in Python's threading module. It is used\n",
    "#   to start a new thread of execution by calling the run() method of the Thread object in a separate thread \n",
    "# For Example\n",
    "import threading\n",
    "\n",
    "class MyThread(threading.Thread):\n",
    "    def run(self):\n",
    "        print(\"Hello from a new thread!\")\n",
    "\n",
    "my_thread = MyThread()\n",
    "my_thread.start()\n"
   ]
  },
  {
   "cell_type": "code",
   "execution_count": 8,
   "id": "d7a1a5c3-3cbb-498d-aea6-d504b1313634",
   "metadata": {},
   "outputs": [
    {
     "name": "stdout",
     "output_type": "stream",
     "text": [
      "Starting thread...\n",
      "Waiting for thread to finish...\n",
      "Thread finished.\n",
      "Done.\n"
     ]
    }
   ],
   "source": [
    "# 3.join() -The join() function is a method of the Thread class in Python's threading module. It is used to\n",
    "#                  wait for a thread to complete its execution before proceeding with the rest of the code.\n",
    "# For Example\n",
    "import threading\n",
    "import time\n",
    "\n",
    "class MyThread(threading.Thread):\n",
    "    def run(self):\n",
    "        print(\"Starting thread...\")\n",
    "        time.sleep(2)\n",
    "        print(\"Thread finished.\")\n",
    "\n",
    "my_thread = MyThread()\n",
    "my_thread.start()\n",
    "\n",
    "print(\"Waiting for thread to finish...\")\n",
    "my_thread.join()\n",
    "\n",
    "print(\"Done.\")\n"
   ]
  },
  {
   "cell_type": "code",
   "execution_count": 9,
   "id": "6c7a3c77-2768-4033-831f-1ca96cacf874",
   "metadata": {},
   "outputs": [
    {
     "name": "stdout",
     "output_type": "stream",
     "text": [
      "Starting thread...\n"
     ]
    },
    {
     "ename": "AttributeError",
     "evalue": "'MyThread' object has no attribute 'isAlive'",
     "output_type": "error",
     "traceback": [
      "\u001b[0;31m---------------------------------------------------------------------------\u001b[0m",
      "\u001b[0;31mAttributeError\u001b[0m                            Traceback (most recent call last)",
      "Cell \u001b[0;32mIn[9], line 16\u001b[0m\n\u001b[1;32m     13\u001b[0m my_thread \u001b[38;5;241m=\u001b[39m MyThread()\n\u001b[1;32m     14\u001b[0m my_thread\u001b[38;5;241m.\u001b[39mstart()\n\u001b[0;32m---> 16\u001b[0m \u001b[38;5;28;01mwhile\u001b[39;00m \u001b[43mmy_thread\u001b[49m\u001b[38;5;241;43m.\u001b[39;49m\u001b[43misAlive\u001b[49m():\n\u001b[1;32m     17\u001b[0m     \u001b[38;5;28mprint\u001b[39m(\u001b[38;5;124m\"\u001b[39m\u001b[38;5;124mThread is still running...\u001b[39m\u001b[38;5;124m\"\u001b[39m)\n\u001b[1;32m     18\u001b[0m     time\u001b[38;5;241m.\u001b[39msleep(\u001b[38;5;241m1\u001b[39m)\n",
      "\u001b[0;31mAttributeError\u001b[0m: 'MyThread' object has no attribute 'isAlive'"
     ]
    },
    {
     "name": "stdout",
     "output_type": "stream",
     "text": [
      "Thread finished.\n"
     ]
    }
   ],
   "source": [
    "# 4.isAlive() - The isAlive() function is a method of the Thread class in Python's threading module. It is \n",
    "#                   used to check whether a thread is currently running or not.\n",
    "# For example\n",
    "import threading\n",
    "import time\n",
    "\n",
    "class MyThread(threading.Thread):\n",
    "    def run(self):\n",
    "        print(\"Starting thread...\")\n",
    "        time.sleep(2)\n",
    "        print(\"Thread finished.\")\n",
    "\n",
    "my_thread = MyThread()\n",
    "my_thread.start()\n",
    "\n",
    "while my_thread.isAlive():\n",
    "    print(\"Thread is still running...\")\n",
    "    time.sleep(1)\n",
    "\n",
    "print(\"Done.\")\n"
   ]
  },
  {
   "cell_type": "code",
   "execution_count": 10,
   "id": "2d50aad0-64a6-4a3d-9094-1d9db436f9ca",
   "metadata": {},
   "outputs": [],
   "source": [
    "# Question 4 - Write a python program to create two threads.Thread one must print the list of squares and thread\n",
    "#              two must print the list of cubes."
   ]
  },
  {
   "cell_type": "code",
   "execution_count": 11,
   "id": "ea88b41d-6324-4971-9f99-30f642575d3b",
   "metadata": {},
   "outputs": [
    {
     "name": "stdout",
     "output_type": "stream",
     "text": [
      "1\n",
      "4\n",
      "9\n",
      "16\n",
      "25\n",
      "1\n",
      "8\n",
      "27\n",
      "64\n",
      "125\n",
      "Done.\n"
     ]
    }
   ],
   "source": [
    "# Answer\n",
    "import threading\n",
    "\n",
    "def print_squares():\n",
    "    for i in range(1, 6):\n",
    "        print(i*i)\n",
    "\n",
    "def print_cubes():\n",
    "    for i in range(1, 6):\n",
    "        print(i*i*i)\n",
    "\n",
    "t1 = threading.Thread(target=print_squares)\n",
    "t2 = threading.Thread(target=print_cubes)\n",
    "\n",
    "t1.start()\n",
    "t2.start()\n",
    "\n",
    "t1.join()\n",
    "t2.join()\n",
    "\n",
    "print(\"Done.\")\n"
   ]
  },
  {
   "cell_type": "code",
   "execution_count": 12,
   "id": "ecc61963-cb6e-4c54-9ee1-1a209b146e55",
   "metadata": {},
   "outputs": [],
   "source": [
    "# Question 5 - State advantages and disadvantages of multithreading."
   ]
  },
  {
   "cell_type": "code",
   "execution_count": 13,
   "id": "45b4052d-845d-45dd-8b69-d457df57dd54",
   "metadata": {},
   "outputs": [],
   "source": [
    "# Answer -Advantages:\n",
    "\n",
    "#Increased performance: Multithreading can improve the performance of a program by allowing multiple tasks\n",
    "#        to run concurrently on different threads, thereby utilizing more of the available system resources.\n",
    "#Responsiveness: Multithreading can make a program more responsive by allowing it to continue to process user\n",
    "#              input and respond to events while performing other tasks in the background.\n",
    "# Disadvantages:\n",
    "\n",
    "# Complexity: Multithreading can make a program more complex and difficult to design, implement, and debug. \n",
    "#           Race conditions, deadlocks, and synchronization issues are common problems that can arise in \n",
    "#           multithreaded programs.\n",
    "# Debugging: Debugging a multithreaded program can be challenging because the behavior of the program can \n",
    "#         depend on the timing and scheduling of the threads, which can be difficult to reproduce and isolate."
   ]
  },
  {
   "cell_type": "code",
   "execution_count": 14,
   "id": "181169dc-ef37-4444-8f7c-aa75f16ab22e",
   "metadata": {},
   "outputs": [],
   "source": [
    "# Question 6 - Explain daedlocks and race conditions"
   ]
  },
  {
   "cell_type": "code",
   "execution_count": 15,
   "id": "e976bbe9-a7bf-44a8-bbf5-264a5fd2a8cd",
   "metadata": {},
   "outputs": [],
   "source": [
    "# Answer - Deadlocks and race conditions are two common problems that can occur in multithreaded programs in\n",
    "#          Python\n",
    "# Deadlock:A deadlock occurs when two or more threads are waiting for each other to release a resource, such\n",
    "#         as a lock or a semaphore, that they both need to proceed. \n",
    "# For example, consider a program with two threads, T1 and T2, each of which has acquired a lock on a shared\n",
    "# resource A and is waiting to acquire a lock on a second shared resource B that the other thread has acquired.\n",
    "# This can result in a deadlock if neither thread releases its lock on resource A and both continue to wait\n",
    "# for the other thread to release its lock on resource B.\n",
    "# Race Condition: A race condition occurs when two or more threads access a shared resource in an unpredictable\n",
    "#                order, leading to unexpected and potentially incorrect behavior. \n",
    "#For example, consider a program with two threads, T1 and T2, both of which are reading and writing to a \n",
    "# shared variable X. If both threads attempt to modify X at the same time, the resulting value of X may depend\n",
    "#  on the order in which the operations are executed, which can lead to inconsistent or incorrect results.\n",
    "\n",
    "\n",
    "\n",
    "\n",
    "\n",
    "\n",
    "\n",
    "\n",
    "\n"
   ]
  },
  {
   "cell_type": "code",
   "execution_count": null,
   "id": "bc4a284e-1b5c-4790-b683-011cb0c33916",
   "metadata": {},
   "outputs": [],
   "source": []
  }
 ],
 "metadata": {
  "kernelspec": {
   "display_name": "Python 3 (ipykernel)",
   "language": "python",
   "name": "python3"
  },
  "language_info": {
   "codemirror_mode": {
    "name": "ipython",
    "version": 3
   },
   "file_extension": ".py",
   "mimetype": "text/x-python",
   "name": "python",
   "nbconvert_exporter": "python",
   "pygments_lexer": "ipython3",
   "version": "3.10.8"
  }
 },
 "nbformat": 4,
 "nbformat_minor": 5
}
